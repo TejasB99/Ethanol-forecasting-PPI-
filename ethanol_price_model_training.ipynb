{
 "cells": [
  {
   "cell_type": "code",
   "execution_count": 2,
   "id": "ab2e413b",
   "metadata": {},
   "outputs": [],
   "source": [
    "# Import necessary libraries\n",
    "import os\n",
    "import pandas as pd\n",
    "from fredapi import Fred\n",
    "import numpy as np\n",
    "from sklearn.model_selection import train_test_split\n",
    "from sklearn.ensemble import GradientBoostingRegressor\n",
    "from sklearn.metrics import mean_squared_error, r2_score\n",
    "from sklearn.preprocessing import StandardScaler\n",
    "import lightgbm as lgb\n",
    "import matplotlib.pyplot as plt\n",
    "\n",
    "# Set up the FRED API key and initialize\n",
    "FRED_API_KEY = os.getenv('FRED_API_KEY', '8f5bebd7af75a89c64df042058c831a5')\n",
    "fred = Fred(api_key=FRED_API_KEY)\n"
   ]
  },
  {
   "cell_type": "code",
   "execution_count": 3,
   "id": "b0223b60",
   "metadata": {},
   "outputs": [
    {
     "name": "stdout",
     "output_type": "stream",
     "text": [
      "crude_oil_prices.csv downloaded successfully!\n",
      "corn_prices.csv downloaded successfully!\n",
      "gasoline_prices.csv downloaded successfully!\n",
      "natural_gas_prices.csv downloaded successfully!\n",
      "federal_funds_rate.csv downloaded successfully!\n",
      "ethanol_prices.csv downloaded successfully!\n"
     ]
    }
   ],
   "source": [
    "# Step 1: Fetch economic data from FRED and create DataFrames\n",
    "# Define a function to download data and save it as CSV\n",
    "def fetch_and_save_data(series_id, csv_filename, start_date='2018-01-01', end_date='2024-10-31'):\n",
    "    series_data = fred.get_series(series_id, observation_start=start_date, observation_end=end_date)\n",
    "    series_data = series_data.reset_index()\n",
    "    series_data.columns = ['DATE', series_id]\n",
    "    series_data.to_csv(csv_filename, index=False)\n",
    "    print(f\"{csv_filename} downloaded successfully!\")\n",
    "\n",
    "# Fetch data from FRED for crude oil prices, corn prices, and other economic indicators\n",
    "fetch_and_save_data('DCOILWTICO', 'crude_oil_prices.csv')  # Crude Oil Prices\n",
    "fetch_and_save_data('WPS012202', 'corn_prices.csv')  # Corn Prices\n",
    "fetch_and_save_data('CUSR0000SETB01', 'gasoline_prices.csv')  # Consumer Price Index for Gasoline\n",
    "fetch_and_save_data('DHHNGSP', 'natural_gas_prices.csv')  # Henry Hub Natural Gas Prices\n",
    "fetch_and_save_data('FEDFUNDS', 'federal_funds_rate.csv')  # Federal Funds Rate\n",
    "fetch_and_save_data('WPU06140341', 'ethanol_prices.csv')  # Ethanol Prices\n"
   ]
  },
  {
   "cell_type": "code",
   "execution_count": 4,
   "id": "1ae3c95d",
   "metadata": {},
   "outputs": [
    {
     "name": "stdout",
     "output_type": "stream",
     "text": [
      "         DATE  DCOILWTICO\n",
      "0  2018-01-01         NaN\n",
      "1  2018-01-02       60.37\n",
      "2  2018-01-03       61.61\n",
      "3  2018-01-04       61.98\n",
      "4  2018-01-05       61.49\n"
     ]
    }
   ],
   "source": [
    "# Step 2: Load the fetched CSV files into DataFrames\n",
    "crude_oil_prices = pd.read_csv('crude_oil_prices.csv')\n",
    "corn_prices = pd.read_csv('corn_prices.csv')\n",
    "gasoline_prices = pd.read_csv('gasoline_prices.csv')\n",
    "natural_gas_prices = pd.read_csv('natural_gas_prices.csv')\n",
    "federal_funds_rate = pd.read_csv('federal_funds_rate.csv')\n",
    "ethanol_prices = pd.read_csv('ethanol_prices.csv')\n",
    "\n",
    "# Display the first few rows of crude oil prices to understand the structure\n",
    "print(crude_oil_prices.head())\n"
   ]
  },
  {
   "cell_type": "code",
   "execution_count": 5,
   "id": "0a1b960f",
   "metadata": {},
   "outputs": [],
   "source": [
    "# Step 3: Convert 'DATE' column to datetime for consistency\n",
    "crude_oil_prices['DATE'] = pd.to_datetime(crude_oil_prices['DATE'])\n",
    "corn_prices['DATE'] = pd.to_datetime(corn_prices['DATE'])\n",
    "gasoline_prices['DATE'] = pd.to_datetime(gasoline_prices['DATE'])\n",
    "natural_gas_prices['DATE'] = pd.to_datetime(natural_gas_prices['DATE'])\n",
    "federal_funds_rate['DATE'] = pd.to_datetime(federal_funds_rate['DATE'])\n",
    "ethanol_prices['DATE'] = pd.to_datetime(ethanol_prices['DATE'])\n"
   ]
  },
  {
   "cell_type": "code",
   "execution_count": 6,
   "id": "84eb8cff",
   "metadata": {},
   "outputs": [
    {
     "name": "stdout",
     "output_type": "stream",
     "text": [
      "                                DATE   DCOILWTICO   WPS012202  CUSR0000SETB01  \\\n",
      "count                           1806  1711.000000   82.000000       82.000000   \n",
      "mean   2021-05-31 13:44:27.109634816    68.308118  196.704256      268.892756   \n",
      "min              2018-01-01 00:00:00   -36.980000  114.400000      160.740000   \n",
      "25%              2019-09-16 06:00:00    56.905000  145.725000      232.623000   \n",
      "50%              2021-05-31 12:00:00    69.450000  172.968000      255.577000   \n",
      "75%              2023-02-14 18:00:00    79.525000  245.753250      306.985250   \n",
      "max              2024-10-31 00:00:00   123.640000  326.444000      411.984000   \n",
      "std                              NaN    18.491652   58.755911       52.661924   \n",
      "\n",
      "           DHHNGSP   FEDFUNDS  WPU06140341  \n",
      "count  1710.000000  82.000000    82.000000  \n",
      "mean      3.273830   2.273659   236.416171  \n",
      "min       1.250000   0.050000   148.400000  \n",
      "25%       2.250000   0.092500   182.150000  \n",
      "50%       2.710000   1.910000   214.641000  \n",
      "75%       3.560000   4.510000   296.811500  \n",
      "max      23.860000   5.330000   368.471000  \n",
      "std       1.768931   1.983712    61.117142  \n"
     ]
    }
   ],
   "source": [
    "# Step 4: Merge the dataframes to create a consolidated dataset\n",
    "merged_data = pd.merge(crude_oil_prices, corn_prices, on='DATE', how='outer')\n",
    "merged_data = pd.merge(merged_data, gasoline_prices, on='DATE', how='outer')\n",
    "merged_data = pd.merge(merged_data, natural_gas_prices, on='DATE', how='outer')\n",
    "merged_data = pd.merge(merged_data, federal_funds_rate, on='DATE', how='outer')\n",
    "merged_data = pd.merge(merged_data, ethanol_prices, on='DATE', how='outer')\n",
    "\n",
    "# Display summary statistics\n",
    "print(merged_data.describe())\n"
   ]
  },
  {
   "cell_type": "code",
   "execution_count": 7,
   "id": "3321c85b",
   "metadata": {},
   "outputs": [
    {
     "name": "stdout",
     "output_type": "stream",
     "text": [
      "        DATE  DCOILWTICO  WPS012202  CUSR0000SETB01  DHHNGSP  FEDFUNDS  \\\n",
      "0 2018-01-01       60.37      133.4         235.325     6.24      1.41   \n",
      "1 2018-01-02       60.37      133.4         235.325     6.24      1.41   \n",
      "2 2018-01-03       61.61      133.4         235.325     6.24      1.41   \n",
      "3 2018-01-04       61.98      133.4         235.325     4.65      1.41   \n",
      "4 2018-01-05       61.49      133.4         235.325     4.65      1.41   \n",
      "\n",
      "   WPU06140341  \n",
      "0        166.9  \n",
      "1        166.9  \n",
      "2        166.9  \n",
      "3        166.9  \n",
      "4        166.9  \n"
     ]
    }
   ],
   "source": [
    "# Step 5: Handle missing values in the merged dataset\n",
    "merged_data = merged_data.ffill().bfill()\n",
    "merged_data.interpolate(method='linear', inplace=True)\n",
    "\n",
    "# Display the first few rows to confirm the data has been filled properly\n",
    "print(merged_data.head())\n"
   ]
  },
  {
   "cell_type": "code",
   "execution_count": 8,
   "id": "3aba8155",
   "metadata": {},
   "outputs": [
    {
     "data": {
      "image/png": "[encoded data removed]",
      "text/plain": [
       "<Figure size 800x500 with 1 Axes>"
      ]
     },
     "metadata": {},
     "output_type": "display_data"
    }
   ],
   "source": [
    "# Step 6: Create additional features for modeling\n",
    "merged_data['MONTH'] = merged_data['DATE'].dt.month\n",
    "merged_data['MONTH_SIN'] = np.sin(2 * np.pi * merged_data['MONTH'] / 12)\n",
    "merged_data['MONTH_COS'] = np.cos(2 * np.pi * merged_data['MONTH'] / 12)\n",
    "\n",
    "# Plotting the distribution of 'MONTH' feature\n",
    "plt.figure(figsize=(8, 5))\n",
    "plt.hist(merged_data['MONTH'], bins=12, color='skyblue')\n",
    "plt.xlabel('Month')\n",
    "plt.ylabel('Frequency')\n",
    "plt.title('Distribution of Months in Dataset')\n",
    "plt.show()\n"
   ]
  },
  {
   "cell_type": "code",
   "execution_count": 9,
   "id": "c424b031",
   "metadata": {},
   "outputs": [
    {
     "name": "stdout",
     "output_type": "stream",
     "text": [
      "   DCOILWTICO  WPS012202  CUSR0000SETB01  DHHNGSP  FEDFUNDS  MONTH_SIN  \\\n",
      "0       60.37      133.4         235.325     6.24      1.41        0.5   \n",
      "1       60.37      133.4         235.325     6.24      1.41        0.5   \n",
      "2       61.61      133.4         235.325     6.24      1.41        0.5   \n",
      "3       61.98      133.4         235.325     4.65      1.41        0.5   \n",
      "4       61.49      133.4         235.325     4.65      1.41        0.5   \n",
      "\n",
      "   MONTH_COS  \n",
      "0   0.866025  \n",
      "1   0.866025  \n",
      "2   0.866025  \n",
      "3   0.866025  \n",
      "4   0.866025  \n",
      "0    166.9\n",
      "1    166.9\n",
      "2    166.9\n",
      "3    166.9\n",
      "4    166.9\n",
      "Name: WPU06140341, dtype: float64\n"
     ]
    }
   ],
   "source": [
    "# Step 7: Define features and target variable\n",
    "X = merged_data[['DCOILWTICO', 'WPS012202', 'CUSR0000SETB01', 'DHHNGSP', 'FEDFUNDS', 'MONTH_SIN', 'MONTH_COS']]\n",
    "y = merged_data['WPU06140341']  # Ethanol Prices\n",
    "\n",
    "# Display the first few rows of features and target\n",
    "print(X.head())\n",
    "print(y.head())\n"
   ]
  },
  {
   "cell_type": "code",
   "execution_count": 10,
   "id": "63b753e0",
   "metadata": {},
   "outputs": [
    {
     "name": "stdout",
     "output_type": "stream",
     "text": [
      "Shape of X_train: (1444, 7)\n",
      "Shape of X_test: (362, 7)\n",
      "Shape of y_train: (1444,)\n",
      "Shape of y_test: (362,)\n"
     ]
    }
   ],
   "source": [
    "# Step 8: Train-Test Split\n",
    "X_train, X_test, y_train, y_test = train_test_split(X, y, test_size=0.2, random_state=42)\n",
    "\n",
    "# Display the shapes of the training and testing sets\n",
    "print(f\"Shape of X_train: {X_train.shape}\")\n",
    "print(f\"Shape of X_test: {X_test.shape}\")\n",
    "print(f\"Shape of y_train: {y_train.shape}\")\n",
    "print(f\"Shape of y_test: {y_test.shape}\")\n"
   ]
  },
  {
   "cell_type": "code",
   "execution_count": 11,
   "id": "d7f34ad5",
   "metadata": {},
   "outputs": [
    {
     "name": "stdout",
     "output_type": "stream",
     "text": [
      "Mean of scaled features (X_train): [-1.62381650e-16  5.83097744e-16  3.37064940e-16 -1.35318042e-17\n",
      "  1.78988864e-16  4.92065606e-18  5.22819707e-17]\n",
      "Standard deviation of scaled features (X_train): [1. 1. 1. 1. 1. 1. 1.]\n"
     ]
    }
   ],
   "source": [
    "# Step 9: Scale the features\n",
    "scaler = StandardScaler()\n",
    "X_train_scaled = scaler.fit_transform(X_train)\n",
    "X_test_scaled = scaler.transform(X_test)\n",
    "\n",
    "# Verify scaling\n",
    "print(f\"Mean of scaled features (X_train): {np.mean(X_train_scaled, axis=0)}\")\n",
    "print(f\"Standard deviation of scaled features (X_train): {np.std(X_train_scaled, axis=0)}\")\n"
   ]
  },
  {
   "cell_type": "code",
   "execution_count": 12,
   "id": "5d2278ee",
   "metadata": {},
   "outputs": [
    {
     "name": "stdout",
     "output_type": "stream",
     "text": [
      "Gradient Boosting Regressor model has been trained successfully!\n"
     ]
    }
   ],
   "source": [
    "# Step 10: Train Gradient Boosting Regressor\n",
    "gbr_model = GradientBoostingRegressor(n_estimators=200, learning_rate=0.01, max_depth=3, random_state=42)\n",
    "gbr_model.fit(X_train_scaled, y_train)\n",
    "\n",
    "# Output message indicating training completion\n",
    "print(\"Gradient Boosting Regressor model has been trained successfully!\")\n"
   ]
  },
  {
   "cell_type": "code",
   "execution_count": 13,
   "id": "50393a32",
   "metadata": {},
   "outputs": [
    {
     "name": "stdout",
     "output_type": "stream",
     "text": [
      "Gradient Boosting Regressor Mean Squared Error: 149.3649760712941\n",
      "Gradient Boosting Regressor R² Score: 0.959250192870673\n"
     ]
    }
   ],
   "source": [
    "# Step 11: Evaluate the model's performance\n",
    "y_pred = gbr_model.predict(X_test_scaled)\n",
    "mse = mean_squared_error(y_test, y_pred)\n",
    "r2 = r2_score(y_test, y_pred)\n",
    "print(\"Gradient Boosting Regressor Mean Squared Error:\", mse)\n",
    "print(\"Gradient Boosting Regressor R² Score:\", r2)\n"
   ]
  },
  {
   "cell_type": "code",
   "execution_count": 14,
   "id": "33a87bc9",
   "metadata": {},
   "outputs": [
    {
     "name": "stdout",
     "output_type": "stream",
     "text": [
      "Best Parameters from Grid Search: {'learning_rate': 0.05, 'max_depth': 5, 'n_estimators': 300}\n"
     ]
    },
    {
     "data": {
      "text/html": [
       "<style>#sk-container-id-1 {color: black;}#sk-container-id-1 pre{padding: 0;}#sk-container-id-1 div.sk-toggleable {background-color: white;}#sk-container-id-1 label.sk-toggleable__label {cursor: pointer;display: block;width: 100%;margin-bottom: 0;padding: 0.3em;box-sizing: border-box;text-align: center;}#sk-container-id-1 label.sk-toggleable__label-arrow:before {content: \"▸\";float: left;margin-right: 0.25em;color: #696969;}#sk-container-id-1 label.sk-toggleable__label-arrow:hover:before {color: black;}#sk-container-id-1 div.sk-estimator:hover label.sk-toggleable__label-arrow:before {color: black;}#sk-container-id-1 div.sk-toggleable__content {max-height: 0;max-width: 0;overflow: hidden;text-align: left;background-color: #f0f8ff;}#sk-container-id-1 div.sk-toggleable__content pre {margin: 0.2em;color: black;border-radius: 0.25em;background-color: #f0f8ff;}#sk-container-id-1 input.sk-toggleable__control:checked~div.sk-toggleable__content {max-height: 200px;max-width: 100%;overflow: auto;}#sk-container-id-1 input.sk-toggleable__control:checked~label.sk-toggleable__label-arrow:before {content: \"▾\";}#sk-container-id-1 div.sk-estimator input.sk-toggleable__control:checked~label.sk-toggleable__label {background-color: #d4ebff;}#sk-container-id-1 div.sk-label input.sk-toggleable__control:checked~label.sk-toggleable__label {background-color: #d4ebff;}#sk-container-id-1 input.sk-hidden--visually {border: 0;clip: rect(1px 1px 1px 1px);clip: rect(1px, 1px, 1px, 1px);height: 1px;margin: -1px;overflow: hidden;padding: 0;position: absolute;width: 1px;}#sk-container-id-1 div.sk-estimator {font-family: monospace;background-color: #f0f8ff;border: 1px dotted black;border-radius: 0.25em;box-sizing: border-box;margin-bottom: 0.5em;}#sk-container-id-1 div.sk-estimator:hover {background-color: #d4ebff;}#sk-container-id-1 div.sk-parallel-item::after {content: \"\";width: 100%;border-bottom: 1px solid gray;flex-grow: 1;}#sk-container-id-1 div.sk-label:hover label.sk-toggleable__label {background-color: #d4ebff;}#sk-container-id-1 div.sk-serial::before {content: \"\";position: absolute;border-left: 1px solid gray;box-sizing: border-box;top: 0;bottom: 0;left: 50%;z-index: 0;}#sk-container-id-1 div.sk-serial {display: flex;flex-direction: column;align-items: center;background-color: white;padding-right: 0.2em;padding-left: 0.2em;position: relative;}#sk-container-id-1 div.sk-item {position: relative;z-index: 1;}#sk-container-id-1 div.sk-parallel {display: flex;align-items: stretch;justify-content: center;background-color: white;position: relative;}#sk-container-id-1 div.sk-item::before, #sk-container-id-1 div.sk-parallel-item::before {content: \"\";position: absolute;border-left: 1px solid gray;box-sizing: border-box;top: 0;bottom: 0;left: 50%;z-index: -1;}#sk-container-id-1 div.sk-parallel-item {display: flex;flex-direction: column;z-index: 1;position: relative;background-color: white;}#sk-container-id-1 div.sk-parallel-item:first-child::after {align-self: flex-end;width: 50%;}#sk-container-id-1 div.sk-parallel-item:last-child::after {align-self: flex-start;width: 50%;}#sk-container-id-1 div.sk-parallel-item:only-child::after {width: 0;}#sk-container-id-1 div.sk-dashed-wrapped {border: 1px dashed gray;margin: 0 0.4em 0.5em 0.4em;box-sizing: border-box;padding-bottom: 0.4em;background-color: white;}#sk-container-id-1 div.sk-label label {font-family: monospace;font-weight: bold;display: inline-block;line-height: 1.2em;}#sk-container-id-1 div.sk-label-container {text-align: center;}#sk-container-id-1 div.sk-container {/* jupyter's `normalize.less` sets `[hidden] { display: none; }` but bootstrap.min.css set `[hidden] { display: none !important; }` so we also need the `!important` here to be able to override the default hidden behavior on the sphinx rendered scikit-learn.org. See: https://github.com/scikit-learn/scikit-learn/issues/21755 */display: inline-block !important;position: relative;}#sk-container-id-1 div.sk-text-repr-fallback {display: none;}</style><div id=\"sk-container-id-1\" class=\"sk-top-container\"><div class=\"sk-text-repr-fallback\"><pre>GradientBoostingRegressor(learning_rate=0.05, max_depth=5, n_estimators=300,\n",
       "                          random_state=42)</pre><b>In a Jupyter environment, please rerun this cell to show the HTML representation or trust the notebook. <br />On GitHub, the HTML representation is unable to render, please try loading this page with nbviewer.org.</b></div><div class=\"sk-container\" hidden><div class=\"sk-item\"><div class=\"sk-estimator sk-toggleable\"><input class=\"sk-toggleable__control sk-hidden--visually\" id=\"sk-estimator-id-1\" type=\"checkbox\" checked><label for=\"sk-estimator-id-1\" class=\"sk-toggleable__label sk-toggleable__label-arrow\">GradientBoostingRegressor</label><div class=\"sk-toggleable__content\"><pre>GradientBoostingRegressor(learning_rate=0.05, max_depth=5, n_estimators=300,\n",
       "                          random_state=42)</pre></div></div></div></div></div>"
      ],
      "text/plain": [
       "GradientBoostingRegressor(learning_rate=0.05, max_depth=5, n_estimators=300,\n",
       "                          random_state=42)"
      ]
     },
     "execution_count": 14,
     "metadata": {},
     "output_type": "execute_result"
    }
   ],
   "source": [
    "# Step 12: Hyperparameter Tuning\n",
    "from sklearn.model_selection import GridSearchCV\n",
    "\n",
    "param_grid = {\n",
    "    'n_estimators': [100, 200, 300],\n",
    "    'learning_rate': [0.01, 0.05, 0.1],\n",
    "    'max_depth': [3, 4, 5]\n",
    "}\n",
    "\n",
    "grid_search = GridSearchCV(GradientBoostingRegressor(random_state=42), param_grid, cv=3, scoring='r2')\n",
    "grid_search.fit(X_train_scaled, y_train)\n",
    "\n",
    "# Optimized model\n",
    "gbr_model_optimized = grid_search.best_estimator_\n",
    "print(\"Best Parameters from Grid Search:\", grid_search.best_params_)\n",
    "\n",
    "# Retrain with optimized parameters\n",
    "gbr_model_optimized.fit(X_train_scaled, y_train)\n"
   ]
  },
  {
   "cell_type": "code",
   "execution_count": 15,
   "id": "c32e9abf",
   "metadata": {},
   "outputs": [
    {
     "name": "stdout",
     "output_type": "stream",
     "text": [
      "Optimized Gradient Boosting Regressor Mean Squared Error: 5.406367607013925\n",
      "Optimized Gradient Boosting Regressor R² Score: 0.9985250328219455\n"
     ]
    }
   ],
   "source": [
    "# Step 13: Re-evaluate Optimized Model\n",
    "y_pred_optimized = gbr_model_optimized.predict(X_test_scaled)\n",
    "mse_optimized = mean_squared_error(y_test, y_pred_optimized)\n",
    "r2_optimized = r2_score(y_test, y_pred_optimized)\n",
    "print(\"Optimized Gradient Boosting Regressor Mean Squared Error:\", mse_optimized)\n",
    "print(\"Optimized Gradient Boosting Regressor R² Score:\", r2_optimized)\n"
   ]
  },
  {
   "cell_type": "code",
   "execution_count": 16,
   "id": "3b2b3807",
   "metadata": {},
   "outputs": [
    {
     "data": {
      "image/png": "[encoded data removed]",
      "text/plain": [
       "<Figure size 1000x600 with 1 Axes>"
      ]
     },
     "metadata": {},
     "output_type": "display_data"
    }
   ],
   "source": [
    "# Step 14: Feature Importance\n",
    "feature_importance = gbr_model_optimized.feature_importances_\n",
    "feature_names = [\n",
    "    'Crude Oil Price (WTI)', \n",
    "    'Corn Price', \n",
    "    'Gasoline Price (CPI)', \n",
    "    'Natural Gas Price', \n",
    "    'Federal Interest Rate', \n",
    "    'Month (Sine)', \n",
    "    'Month (Cosine)'\n",
    "]\n",
    "\n",
    "plt.figure(figsize=(10, 6))\n",
    "plt.bar(feature_names, feature_importance, color='skyblue')\n",
    "plt.xlabel('Feature')\n",
    "plt.ylabel('Importance')\n",
    "plt.title('Feature Importance for Optimized Gradient Boosting Regressor')\n",
    "plt.xticks(rotation=45)\n",
    "plt.show()\n"
   ]
  },
  {
   "cell_type": "code",
   "execution_count": 17,
   "id": "8babdb5f",
   "metadata": {},
   "outputs": [
    {
     "name": "stdout",
     "output_type": "stream",
     "text": [
      "Predicted Ethanol Price (PPI) for January 2025: 160.97801801753823\n"
     ]
    }
   ],
   "source": [
    "# Update the future dataset without including the 'MONTH' feature\n",
    "future_data = {\n",
    "    'DCOILWTICO': [75.0],            # Crude Oil Price (WTI)\n",
    "    'WPS012202': [6.5],              # Corn Price\n",
    "    'CUSR0000SETB01': [180.0],       # Gasoline Price (CPI)\n",
    "    'DHHNGSP': [3.5],                # Natural Gas Price\n",
    "    'FEDFUNDS': [3.0],               # Federal Interest Rate\n",
    "    'MONTH_SIN': [np.sin(2 * np.pi * 1 / 12)],  # Sine value for January\n",
    "    'MONTH_COS': [np.cos(2 * np.pi * 1 / 12)]   # Cosine value for January\n",
    "}\n",
    "\n",
    "# Convert the dictionary to a DataFrame\n",
    "future_df = pd.DataFrame(future_data)\n",
    "\n",
    "# Ensure the columns are in the exact same order as used in the training set\n",
    "future_df = future_df[['DCOILWTICO', 'WPS012202', 'CUSR0000SETB01', 'DHHNGSP', 'FEDFUNDS', 'MONTH_SIN', 'MONTH_COS']]\n",
    "\n",
    "# Scale the future dummy data using the trained scaler\n",
    "future_scaled = scaler.transform(future_df)\n",
    "\n",
    "# Make a prediction using the optimized model\n",
    "future_prediction = gbr_model_optimized.predict(future_scaled)\n",
    "\n",
    "# Display the predicted ethanol price (PPI) for January 2025\n",
    "print(f\"Predicted Ethanol Price (PPI) for January 2025: {future_prediction[0]}\")\n"
   ]
  },
  {
   "cell_type": "code",
   "execution_count": 18,
   "id": "f56d72da",
   "metadata": {},
   "outputs": [],
   "source": [
    "import pickle\n",
    "\n",
    "# Save the trained model to a .pkl file\n",
    "with open('gbr_model_optimized.pkl', 'wb') as model_file:\n",
    "    pickle.dump(gbr_model_optimized, model_file)\n"
   ]
  },
  {
   "cell_type": "code",
   "execution_count": 19,
   "id": "b256c7f8",
   "metadata": {},
   "outputs": [],
   "source": [
    "import pickle\n",
    "\n",
    "# Save the scaler to a .pkl file\n",
    "with open('scaler.pkl', 'wb') as scaler_file:\n",
    "    pickle.dump(scaler, scaler_file)\n"
   ]
  },
  {
   "cell_type": "code",
   "execution_count": null,
   "id": "d57a5a70",
   "metadata": {},
   "outputs": [],
   "source": []
  },
  {
   "cell_type": "code",
   "execution_count": null,
   "id": "8116c5a9",
   "metadata": {},
   "outputs": [],
   "source": []
  },
  {
   "cell_type": "code",
   "execution_count": null,
   "id": "e91561fc",
   "metadata": {},
   "outputs": [],
   "source": []
  }
 ],
 "metadata": {
  "kernelspec": {
   "display_name": "Python 3 (ipykernel)",
   "language": "python",
   "name": "python3"
  },
  "language_info": {
   "codemirror_mode": {
    "name": "ipython",
    "version": 3
   },
   "file_extension": ".py",
   "mimetype": "text/x-python",
   "name": "python",
   "nbconvert_exporter": "python",
   "pygments_lexer": "ipython3",
   "version": "3.11.5"
  }
 },
 "nbformat": 4,
 "nbformat_minor": 5
}
